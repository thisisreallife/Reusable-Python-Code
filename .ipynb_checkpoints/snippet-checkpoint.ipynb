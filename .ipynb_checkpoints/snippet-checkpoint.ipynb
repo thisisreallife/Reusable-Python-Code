{
 "cells": [
  {
   "cell_type": "markdown",
   "metadata": {},
   "source": [
    "To print args nicely, using format function."
   ]
  },
  {
   "cell_type": "code",
   "execution_count": 1,
   "metadata": {
    "ExecuteTime": {
     "end_time": "2019-11-20T11:53:48.280204Z",
     "start_time": "2019-11-20T11:53:48.268221Z"
    }
   },
   "outputs": [
    {
     "name": "stdout",
     "output_type": "stream",
     "text": [
      "padding1 = 19, padding2 = 16\n",
      "Arg1               :           value1\n",
      "Arg2222222222222222:           value2\n",
      "Arg3               : value33333333333\n"
     ]
    }
   ],
   "source": [
    "name_list = ['Arg1','Arg2222222222222222','Arg3']\n",
    "value_list = ['value1', 'value2', 'value33333333333']\n",
    "value_list = [str(x) for x in value_list]\n",
    "padding1 = max(map(len, name_list))\n",
    "padding2 = max(map(len, value_list))\n",
    "print(\"padding1 = {}, padding2 = {}\".format(padding1,padding2))\n",
    "for num in range(len(name_list)):\n",
    "    print('{0}: {1}'.format(name_list[num].ljust(padding1), value_list[num].rjust(padding2)))"
   ]
  },
  {
   "cell_type": "code",
   "execution_count": null,
   "metadata": {
    "collapsed": true
   },
   "outputs": [],
   "source": []
  }
 ],
 "metadata": {
  "kernelspec": {
   "display_name": "Python 3",
   "language": "python",
   "name": "python3"
  },
  "language_info": {
   "codemirror_mode": {
    "name": "ipython",
    "version": 3
   },
   "file_extension": ".py",
   "mimetype": "text/x-python",
   "name": "python",
   "nbconvert_exporter": "python",
   "pygments_lexer": "ipython3",
   "version": "3.6.1"
  },
  "toc": {
   "base_numbering": 1,
   "nav_menu": {},
   "number_sections": true,
   "sideBar": true,
   "skip_h1_title": false,
   "title_cell": "Table of Contents",
   "title_sidebar": "Contents",
   "toc_cell": false,
   "toc_position": {},
   "toc_section_display": true,
   "toc_window_display": false
  },
  "varInspector": {
   "cols": {
    "lenName": 16,
    "lenType": 16,
    "lenVar": 40
   },
   "kernels_config": {
    "python": {
     "delete_cmd_postfix": "",
     "delete_cmd_prefix": "del ",
     "library": "var_list.py",
     "varRefreshCmd": "print(var_dic_list())"
    },
    "r": {
     "delete_cmd_postfix": ") ",
     "delete_cmd_prefix": "rm(",
     "library": "var_list.r",
     "varRefreshCmd": "cat(var_dic_list()) "
    }
   },
   "types_to_exclude": [
    "module",
    "function",
    "builtin_function_or_method",
    "instance",
    "_Feature"
   ],
   "window_display": false
  }
 },
 "nbformat": 4,
 "nbformat_minor": 2
}
